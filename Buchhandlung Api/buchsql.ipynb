{
 "cells": [
  {
   "cell_type": "code",
   "execution_count": 13,
   "metadata": {},
   "outputs": [],
   "source": [
    "import sqlite3\n",
    "import pandas as pd\n",
    "import requests\n",
    "import json\n",
    "\n"
   ]
  },
  {
   "cell_type": "code",
   "execution_count": 34,
   "metadata": {},
   "outputs": [],
   "source": [
    "conn = sqlite3.connect('Buchhandlung.db')\n",
    "cursor = conn.cursor()"
   ]
  },
  {
   "cell_type": "code",
   "execution_count": 52,
   "metadata": {},
   "outputs": [],
   "source": [
    "conn.close()"
   ]
  },
  {
   "cell_type": "code",
   "execution_count": 51,
   "metadata": {},
   "outputs": [
    {
     "data": {
      "text/html": [
       "<div>\n",
       "<style scoped>\n",
       "    .dataframe tbody tr th:only-of-type {\n",
       "        vertical-align: middle;\n",
       "    }\n",
       "\n",
       "    .dataframe tbody tr th {\n",
       "        vertical-align: top;\n",
       "    }\n",
       "\n",
       "    .dataframe thead th {\n",
       "        text-align: right;\n",
       "    }\n",
       "</style>\n",
       "<table border=\"1\" class=\"dataframe\">\n",
       "  <thead>\n",
       "    <tr style=\"text-align: right;\">\n",
       "      <th></th>\n",
       "      <th>film_id</th>\n",
       "      <th>Titel</th>\n",
       "      <th>Produzent</th>\n",
       "      <th>Erscheinungsjahr</th>\n",
       "      <th>Preis</th>\n",
       "      <th>AufLager</th>\n",
       "    </tr>\n",
       "  </thead>\n",
       "  <tbody>\n",
       "    <tr>\n",
       "      <th>0</th>\n",
       "      <td>2</td>\n",
       "      <td>string</td>\n",
       "      <td>string</td>\n",
       "      <td>0</td>\n",
       "      <td>0</td>\n",
       "      <td>0</td>\n",
       "    </tr>\n",
       "    <tr>\n",
       "      <th>1</th>\n",
       "      <td>3</td>\n",
       "      <td>string</td>\n",
       "      <td>string</td>\n",
       "      <td>0</td>\n",
       "      <td>0</td>\n",
       "      <td>0</td>\n",
       "    </tr>\n",
       "    <tr>\n",
       "      <th>2</th>\n",
       "      <td>4</td>\n",
       "      <td>string</td>\n",
       "      <td>string</td>\n",
       "      <td>0</td>\n",
       "      <td>0</td>\n",
       "      <td>0</td>\n",
       "    </tr>\n",
       "  </tbody>\n",
       "</table>\n",
       "</div>"
      ],
      "text/plain": [
       "   film_id   Titel Produzent  Erscheinungsjahr  Preis  AufLager\n",
       "0        2  string    string                 0      0         0\n",
       "1        3  string    string                 0      0         0\n",
       "2        4  string    string                 0      0         0"
      ]
     },
     "execution_count": 51,
     "metadata": {},
     "output_type": "execute_result"
    }
   ],
   "source": [
    "pd.read_sql(\"Select * from films\", conn)"
   ]
  },
  {
   "cell_type": "code",
   "execution_count": 15,
   "metadata": {},
   "outputs": [],
   "source": [
    "\n",
    "cursor.execute(\"\"\"\n",
    "    CREATE TABLE IF NOT EXISTS books(\n",
    "    book_id integer primary key autoincrement,\n",
    "    Titel VARCHAR(250),\n",
    "    Autor VARCHAR(250),\n",
    "    Erscheinungsjahr INTEGER,\n",
    "    Herausgeber VARCHAR(250),\n",
    "    Seitenanzahl INTEGER,\n",
    "    Preis DECIMAL,\n",
    "    AufLager INTEGER)\n",
    "    \"\"\")\n",
    "\n",
    "conn.commit()\n",
    "\n",
    "\n",
    "cursor.execute(\"\"\"\n",
    "    CREATE TABLE IF NOT EXISTS e_books(\n",
    "    e_book_id integer primary key autoincrement,\n",
    "    Titel VARCHAR(250),\n",
    "    Autor VARCHAR(250),\n",
    "    Erscheinungsjahr INTEGER,\n",
    "    Herausgeber VARCHAR(250),\n",
    "    Seitenanzahl INTEGER,\n",
    "    Preis DECIMAL)\n",
    "    \"\"\")\n",
    "\n",
    "conn.commit()\n",
    "\n",
    "\n",
    "cursor.execute(\"\"\"\n",
    "    CREATE TABLE IF NOT EXISTS films(\n",
    "    film_id integer primary key autoincrement,\n",
    "    Titel VARCHAR(250),\n",
    "    Produzent VARCHAR(250),\n",
    "    Erscheinungsjahr INTEGER,\n",
    "    Preis DECIMAL,\n",
    "    AufLager INTEGER)\n",
    "    \"\"\")\n",
    "\n",
    "conn.commit()\n",
    "\n",
    "conn.close()\n"
   ]
  },
  {
   "cell_type": "code",
   "execution_count": 53,
   "metadata": {},
   "outputs": [],
   "source": [
    "conn = sqlite3.connect('Cafe.db')\n",
    "cursor = conn.cursor()"
   ]
  },
  {
   "cell_type": "code",
   "execution_count": 57,
   "metadata": {},
   "outputs": [
    {
     "data": {
      "text/html": [
       "<div>\n",
       "<style scoped>\n",
       "    .dataframe tbody tr th:only-of-type {\n",
       "        vertical-align: middle;\n",
       "    }\n",
       "\n",
       "    .dataframe tbody tr th {\n",
       "        vertical-align: top;\n",
       "    }\n",
       "\n",
       "    .dataframe thead th {\n",
       "        text-align: right;\n",
       "    }\n",
       "</style>\n",
       "<table border=\"1\" class=\"dataframe\">\n",
       "  <thead>\n",
       "    <tr style=\"text-align: right;\">\n",
       "      <th></th>\n",
       "      <th>bestellung_id</th>\n",
       "      <th>kategorie</th>\n",
       "      <th>Preis</th>\n",
       "      <th>Anzahl</th>\n",
       "      <th>Besteldatum</th>\n",
       "    </tr>\n",
       "  </thead>\n",
       "  <tbody>\n",
       "    <tr>\n",
       "      <th>0</th>\n",
       "      <td>1</td>\n",
       "      <td>Latte</td>\n",
       "      <td>9</td>\n",
       "      <td>3</td>\n",
       "      <td>2023-03-22 16:06:45</td>\n",
       "    </tr>\n",
       "    <tr>\n",
       "      <th>1</th>\n",
       "      <td>2</td>\n",
       "      <td>Americano</td>\n",
       "      <td>15</td>\n",
       "      <td>5</td>\n",
       "      <td>2023-03-22 21:24:54</td>\n",
       "    </tr>\n",
       "  </tbody>\n",
       "</table>\n",
       "</div>"
      ],
      "text/plain": [
       "   bestellung_id  kategorie  Preis  Anzahl          Besteldatum\n",
       "0              1      Latte      9       3  2023-03-22 16:06:45\n",
       "1              2  Americano     15       5  2023-03-22 21:24:54"
      ]
     },
     "execution_count": 57,
     "metadata": {},
     "output_type": "execute_result"
    }
   ],
   "source": [
    "pd.read_sql(\"Select * from Drinks\", conn)"
   ]
  },
  {
   "cell_type": "code",
   "execution_count": 26,
   "metadata": {},
   "outputs": [],
   "source": [
    "conn.close()"
   ]
  },
  {
   "cell_type": "code",
   "execution_count": 21,
   "metadata": {},
   "outputs": [],
   "source": [
    "cursor.execute(\"\"\"\n",
    "    CREATE TABLE IF NOT EXISTS backstock(\n",
    "    Produkt VARCHAR(20),\n",
    "    Bestand INT)\n",
    "    \"\"\")\n",
    "\n",
    "conn.commit()\n",
    "\n",
    "cursor.execute(\"\"\"\n",
    "    CREATE TABLE IF NOT EXISTS drinks(\n",
    "    bestellung_id integer primary key autoincrement,\n",
    "    kategorie VARCHAR(20),\n",
    "    Preis INTEGER DEFAULT 3,\n",
    "    Anzahl INTEGER,\n",
    "    Besteldatum TIMESTAMP NOT NULL DEFAULT CURRENT_TIMESTAMP)\n",
    "    \"\"\")\n",
    "\n",
    "conn.commit()"
   ]
  },
  {
   "cell_type": "code",
   "execution_count": 18,
   "metadata": {},
   "outputs": [],
   "source": [
    "conn.close()"
   ]
  },
  {
   "cell_type": "code",
   "execution_count": 58,
   "metadata": {},
   "outputs": [],
   "source": [
    "book_liste = [\n",
    "('Der kleine Prinz', 'Antoine de Saint-Exupéry', 1943, 'Karl Rauch Verlag', 96, 10.99, 20),\n",
    "('Das Parfum', 'Patrick Süskind', 1985, 'Diogenes Verlag', 278, 12.99, 15),\n",
    "('Faust', 'Johann Wolfgang von Goethe', 1808, 'Cotta Verlag', 400, 16.99, 10),\n",
    "('Die unendliche Geschichte', 'Michael Ende', 1979, 'Thienemann Verlag', 432, 13.99, 25),\n",
    "('Der Steppenwolf', 'Hermann Hesse', 1927, 'Suhrkamp Verlag', 256, 11.99, 8),\n",
    "('Im Westen nichts Neues', 'Erich Maria Remarque', 1929, 'Ullstein Verlag', 240, 9.99, 12),\n",
    "('Die Verwandlung', 'Franz Kafka', 1915, 'Kurt Wolff Verlag', 64, 7.99, 5),\n",
    "('Der Zauberberg', 'Thomas Mann', 1924, 'S. Fischer Verlag', 976, 24.99, 3),\n",
    "('Der Prozess', 'Franz Kafka', 1925, 'Kurt Wolff Verlag', 256, 11.99, 7),\n",
    "('Der Vorleser', 'Bernhard Schlink', 1995, 'Diogenes Verlag', 224, 14.99, 18)\n",
    "]\n",
    "\n",
    "e_book_liste = [\n",
    "('Der Prozess', 'Franz Kafka', 1925, 'Fischer Verlag', 240, 7.99),\n",
    "('Faust', 'Johann Wolfgang von Goethe', 1808, 'Reclam Verlag', 422, 4.99),\n",
    "('Der Steppenwolf', 'Hermann Hesse', 1927, 'Suhrkamp Verlag', 325, 5.99),\n",
    "('Nathan der Weise', 'Gotthold Ephraim Lessing', 1779, 'Reclam Verlag', 120, 3.99),\n",
    "('Die Verwandlung', 'Franz Kafka', 1915, 'Fischer Verlag', 60, 2.99),\n",
    "('Homo Faber', 'Max Frisch', 1957, 'Suhrkamp Verlag', 320, 6.99),\n",
    "('Der Untertan', 'Heinrich Mann', 1918, 'Reclam Verlag', 220, 4.99),\n",
    "('Siddhartha', 'Hermann Hesse', 1922, 'Fischer Verlag', 150, 3.99),\n",
    "('Das Parfum', 'Patrick Süskind', 1985, 'Diogenes Verlag', 312, 8.99),\n",
    "('Der Zauberberg', 'Thomas Mann', 1924, 'Fischer Verlag', 900, 12.99)\n",
    "]\n",
    "\n",
    "film_liste = [\n",
    "('Die Blechtrommel', 'Volker Schlöndorff', 1979, 9.99, 23),\n",
    "('Das Leben der Anderen', 'Florian Henckel von Donnersmarck', 2006, 12.99, 18),\n",
    "('Good Bye, Lenin!', 'Wolfgang Becker', 2003, 8.99, 34),\n",
    "('M Eine Stadt sucht einen Mörder', 'Fritz Lang', 1931, 6.99, 11),\n",
    "('Der Himmel über Berlin', 'Wim Wenders', 1987, 10.99, 27),\n",
    "('Metropolis', 'Fritz Lang', 1927, 5.99, 7),\n",
    "('Toni Erdmann', 'Maren Ade', 2016, 14.99, 16),\n",
    "('Nosferatu Eine Symphonie des Grauens', 'F. W. Murnau', 1922, 7.99, 9),\n",
    "('Der Tiger von Eschnapur', 'Fritz Lang', 1959, 11.99, 12),\n",
    "('Der Baader Meinhof Komplex', 'Uli Edel', 2008, 13.99, 22)\n",
    "]"
   ]
  },
  {
   "cell_type": "code",
   "execution_count": 62,
   "metadata": {},
   "outputs": [
    {
     "name": "stdout",
     "output_type": "stream",
     "text": [
      "[{\"Titel\": \"Der kleine Prinz\", \"Autor\": \"Antoine de Saint-Exup\\u00e9ry\", \"Erscheinungsjahr\": 1943, \"Herausgeber\": \"Karl Rauch Verlag\", \"Seitenanzahl\": 96, \"Preis\": 10.99, \"AufLager\": 20}, {\"Titel\": \"Das Parfum\", \"Autor\": \"Patrick S\\u00fcskind\", \"Erscheinungsjahr\": 1985, \"Herausgeber\": \"Diogenes Verlag\", \"Seitenanzahl\": 278, \"Preis\": 12.99, \"AufLager\": 15}, {\"Titel\": \"Faust\", \"Autor\": \"Johann Wolfgang von Goethe\", \"Erscheinungsjahr\": 1808, \"Herausgeber\": \"Cotta Verlag\", \"Seitenanzahl\": 400, \"Preis\": 16.99, \"AufLager\": 10}, {\"Titel\": \"Die unendliche Geschichte\", \"Autor\": \"Michael Ende\", \"Erscheinungsjahr\": 1979, \"Herausgeber\": \"Thienemann Verlag\", \"Seitenanzahl\": 432, \"Preis\": 13.99, \"AufLager\": 25}, {\"Titel\": \"Der Steppenwolf\", \"Autor\": \"Hermann Hesse\", \"Erscheinungsjahr\": 1927, \"Herausgeber\": \"Suhrkamp Verlag\", \"Seitenanzahl\": 256, \"Preis\": 11.99, \"AufLager\": 8}, {\"Titel\": \"Im Westen nichts Neues\", \"Autor\": \"Erich Maria Remarque\", \"Erscheinungsjahr\": 1929, \"Herausgeber\": \"Ullstein Verlag\", \"Seitenanzahl\": 240, \"Preis\": 9.99, \"AufLager\": 12}, {\"Titel\": \"Die Verwandlung\", \"Autor\": \"Franz Kafka\", \"Erscheinungsjahr\": 1915, \"Herausgeber\": \"Kurt Wolff Verlag\", \"Seitenanzahl\": 64, \"Preis\": 7.99, \"AufLager\": 5}, {\"Titel\": \"Der Zauberberg\", \"Autor\": \"Thomas Mann\", \"Erscheinungsjahr\": 1924, \"Herausgeber\": \"S. Fischer Verlag\", \"Seitenanzahl\": 976, \"Preis\": 24.99, \"AufLager\": 3}, {\"Titel\": \"Der Prozess\", \"Autor\": \"Franz Kafka\", \"Erscheinungsjahr\": 1925, \"Herausgeber\": \"Kurt Wolff Verlag\", \"Seitenanzahl\": 256, \"Preis\": 11.99, \"AufLager\": 7}, {\"Titel\": \"Der Vorleser\", \"Autor\": \"Bernhard Schlink\", \"Erscheinungsjahr\": 1995, \"Herausgeber\": \"Diogenes Verlag\", \"Seitenanzahl\": 224, \"Preis\": 14.99, \"AufLager\": 18}]\n"
     ]
    }
   ],
   "source": [
    "books_dict_list = []\n",
    "for book in book_liste:\n",
    "    books_dict = {}\n",
    "    books_dict['Titel'] = book[0]\n",
    "    books_dict['Autor'] = book[1]\n",
    "    books_dict['Erscheinungsjahr'] = book[2]\n",
    "    books_dict['Herausgeber'] = book[3]\n",
    "    books_dict['Seitenanzahl'] = book[4]\n",
    "    books_dict['Preis'] = book[5]\n",
    "    books_dict['AufLager'] = book[6]\n",
    "    books_dict_list.append(books_dict)\n",
    "\n",
    "books_json = json.dumps(books_dict_list)\n",
    "print(books_json)"
   ]
  },
  {
   "cell_type": "code",
   "execution_count": 60,
   "metadata": {},
   "outputs": [
    {
     "name": "stdout",
     "output_type": "stream",
     "text": [
      "Book Bestand\n",
      "[[4,\"string\",\"string\",2000,\"string\",100,10,10]] \n",
      "\n",
      "E_book bestand\n",
      "[[1,\"c\",\"tt\",5000,\"string\",0,0],[2,\"string\",\"string\",0,\"string\",0,0],[3,\"string\",\"string\",0,\"string\",0,0]] \n",
      "\n",
      "film bestand\n",
      "[] \n",
      "\n"
     ]
    }
   ],
   "source": [
    "import requests\n",
    "\n",
    "buch = [\"books\",\"e_books\",\"films\"]\n",
    "\n",
    "for i in buch:\n",
    "    res = requests.get(f'http://127.0.0.1:8000/{i}')\n",
    "    if i == \"books\":\n",
    "        print(\"Book Bestand\")\n",
    "    elif i == \"e_books\":\n",
    "        print(\"E_book bestand\")\n",
    "    else:\n",
    "        print(\"film bestand\")      \n",
    "    print(res.text, \"\\n\")"
   ]
  },
  {
   "cell_type": "code",
   "execution_count": 83,
   "metadata": {},
   "outputs": [],
   "source": [
    "book_json = [\n",
    "    {\n",
    "        \"Titel\": \"Der kleine Prinz\",\n",
    "        \"Autor\": \"Antoine de Saint-Exupéry\",\n",
    "        \"Erscheinungsjahr\": 1943,\n",
    "        \"Herausgeber\": \"Karl Rauch Verlag\",\n",
    "        \"Seitenanzahl\": 96,\n",
    "        \"Preis\": 10.99,\n",
    "        \"AufLager\": 20\n",
    "    },\n",
    "    {\n",
    "        \"Titel\": \"Das Parfum\",\n",
    "        \"Autor\": \"Patrick Süskind\",\n",
    "        \"Erscheinungsjahr\": 1985,\n",
    "        \"Herausgeber\": \"Diogenes Verlag\",\n",
    "        \"Seitenanzahl\": 278,\n",
    "        \"Preis\": 12.99,\n",
    "        \"AufLager\": 15\n",
    "    },\n",
    "    {\n",
    "        \"Titel\": \"Faust\",\n",
    "        \"Autor\": \"Johann Wolfgang von Goethe\",\n",
    "        \"Erscheinungsjahr\": 1808,\n",
    "        \"Herausgeber\": \"Cotta Verlag\",\n",
    "        \"Seitenanzahl\": 400,\n",
    "        \"Preis\": 16.99,\n",
    "        \"AufLager\": 10\n",
    "    },\n",
    "    {\n",
    "        \"Titel\": \"Die unendliche Geschichte\",\n",
    "        \"Autor\": \"Michael Ende\",\n",
    "        \"Erscheinungsjahr\": 1979,\n",
    "        \"Herausgeber\": \"Thienemann Verlag\",\n",
    "        \"Seitenanzahl\": 432,\n",
    "        \"Preis\": 13.99,\n",
    "        \"AufLager\": 25\n",
    "    },\n",
    "    {\n",
    "        \"Titel\": \"Der Steppenwolf\",\n",
    "        \"Autor\": \"Hermann Hesse\",\n",
    "        \"Erscheinungsjahr\": 1927,\n",
    "        \"Herausgeber\": \"Suhrkamp Verlag\",\n",
    "        \"Seitenanzahl\": 256,\n",
    "        \"Preis\": 11.99,\n",
    "        \"AufLager\": 8\n",
    "    },\n",
    "    {\n",
    "        \"Titel\": \"Im Westen nichts Neues\",\n",
    "        \"Autor\": \"Erich Maria Remarque\",\n",
    "        \"Erscheinungsjahr\": 1929,\n",
    "        \"Herausgeber\": \"Ullstein Verlag\",\n",
    "        \"Seitenanzahl\": 240,\n",
    "        \"Preis\": 9.99,\n",
    "        \"AufLager\": 12\n",
    "    },\n",
    "    {\n",
    "        \"Titel\": \"Die Verwandlung\",\n",
    "        \"Autor\": \"Franz Kafka\",\n",
    "        \"Erscheinungsjahr\": 1915,\n",
    "        \"Herausgeber\": \"Kurt Wolff Verlag\",\n",
    "        \"Seitenanzahl\": 64,\n",
    "        \"Preis\": 7.99,\n",
    "        \"AufLager\": 5\n",
    "    },\n",
    "    {\n",
    "        \"Titel\": \"Der Zauberberg\",\n",
    "        \"Autor\": \"Thomas Mann\",\n",
    "        \"Erscheinungsjahr\": 1924,\n",
    "        \"Herausgeber\": \"S. Fischer Verlag\",\n",
    "        \"Seitenanzahl\": 976,\n",
    "        \"Preis\": 24.99,\n",
    "        \"AufLager\": 3\n",
    "    },\n",
    "    {\n",
    "        \"Titel\": \"Der Prozess\",\n",
    "        \"Autor\": \"Franz Kafka\",\n",
    "        \"Erscheinungsjahr\": 1925,\n",
    "        \"Herausgeber\": \"Kurt Wolff Verlag\",\n",
    "        \"Seitenanzahl\": 256,\n",
    "        \"Preis\": 11.99,\n",
    "        \"AufLager\": 7\n",
    "    }]\n"
   ]
  },
  {
   "cell_type": "code",
   "execution_count": 84,
   "metadata": {},
   "outputs": [
    {
     "name": "stdout",
     "output_type": "stream",
     "text": [
      "{'message': 'Book/books added successfully'}\n",
      "{'message': 'Book/books added successfully'}\n",
      "{'message': 'Book/books added successfully'}\n",
      "{'message': 'Book/books added successfully'}\n",
      "{'message': 'Book/books added successfully'}\n",
      "{'message': 'Book/books added successfully'}\n",
      "{'message': 'Book/books added successfully'}\n",
      "{'message': 'Book/books added successfully'}\n",
      "{'message': 'Book/books added successfully'}\n"
     ]
    }
   ],
   "source": [
    "import requests\n",
    "\n",
    "headers = {\n",
    "    'Content-Type': 'application/json'\n",
    "}\n",
    "\n",
    "for i in range(len(book_json)):\n",
    "    response = requests.post('http://localhost:8000/books', headers=headers, json=book_json[i])\n",
    "    print(response.json())\n"
   ]
  }
 ],
 "metadata": {
  "kernelspec": {
   "display_name": "base",
   "language": "python",
   "name": "python3"
  },
  "language_info": {
   "codemirror_mode": {
    "name": "ipython",
    "version": 3
   },
   "file_extension": ".py",
   "mimetype": "text/x-python",
   "name": "python",
   "nbconvert_exporter": "python",
   "pygments_lexer": "ipython3",
   "version": "3.9.13"
  },
  "orig_nbformat": 4
 },
 "nbformat": 4,
 "nbformat_minor": 2
}
